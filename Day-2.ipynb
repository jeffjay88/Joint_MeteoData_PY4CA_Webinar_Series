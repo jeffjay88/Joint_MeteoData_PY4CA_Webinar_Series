{
 "cells": [
  {
   "cell_type": "markdown",
   "id": "3d7d6ee5",
   "metadata": {},
   "source": [
    "# Day 2"
   ]
  },
  {
   "attachments": {},
   "cell_type": "markdown",
   "id": "abccf1a2",
   "metadata": {},
   "source": [
    "# Outline\n",
    "\n",
    "- Visualization\n",
    "- Xarray Where method\n",
    "\n",
    "<br />\n",
    "<img width=550px align='right' src=\"img/day2_vis.png\" />\n",
    "\n",
    "# Quicklook on Visualizations (Simple and Paneled)\n",
    "\n",
    "<br />\n",
    "\n",
    "# Brief review on matplotlib\n",
    "\n"
   ]
  },
  {
   "cell_type": "code",
   "execution_count": null,
   "id": "5b67e7d1",
   "metadata": {},
   "outputs": [],
   "source": [
    "# Import Matplotlib\n",
    "import matplotlib.pyplot as plt\n",
    "import numpy as np"
   ]
  },
  {
   "cell_type": "code",
   "execution_count": null,
   "id": "72655353",
   "metadata": {},
   "outputs": [],
   "source": [
    "# Create the Figure Canvas\n",
    "plt.figure(figsize=(12,5)) \n",
    "\n",
    "# Plot a dummy random Data\n",
    "plt.plot(\n",
    "    np.random.rand(20)\n",
    ")  # By passing in just one argument, the values are plotted against their indexes (positions)"
   ]
  },
  {
   "cell_type": "code",
   "execution_count": null,
   "id": "21f1d707",
   "metadata": {},
   "outputs": [],
   "source": [
    "plt.figure()\n",
    "plt.plot(\n",
    "     np.arange(20),\n",
    "     np.random.randn(20),\n",
    "    linestyle = '--',\n",
    "    linewidth = 2,\n",
    "    marker = '*',\n",
    "    markersize = 10,\n",
    "    color='r'\n",
    "\n",
    ")"
   ]
  },
  {
   "cell_type": "markdown",
   "id": "0d2ff561",
   "metadata": {},
   "source": [
    "# Panel Plots"
   ]
  },
  {
   "cell_type": "code",
   "execution_count": null,
   "id": "df701984",
   "metadata": {},
   "outputs": [],
   "source": [
    "fig, axes = plt.subplots(ncols=2, nrows=2, figsize=(12,8))\n",
    "\n",
    "axes[1,1].plot(\n",
    "     np.arange(20),\n",
    "     np.random.randn(20),\n",
    "    linestyle = '--',\n",
    "    linewidth = 2,\n",
    "    marker = '*',\n",
    "    markersize = 10,\n",
    "    color='r'\n",
    "\n",
    ")"
   ]
  },
  {
   "cell_type": "markdown",
   "id": "746da7d5",
   "metadata": {},
   "source": [
    "# With this background, let's zoom into the simplistic tasks from Session 1."
   ]
  },
  {
   "cell_type": "markdown",
   "id": "e141aa71",
   "metadata": {},
   "source": [
    "# Simplistic Tasks (Recap)"
   ]
  },
  {
   "cell_type": "markdown",
   "id": "ed351000",
   "metadata": {},
   "source": [
    "<ol>\n",
    "    <li> Split the CRU data into 4 different climate regimes(CR). (1901-1930, 1931-1960; 1961-1990; 1991-2020) </li>\n",
    "    <li> Visualize the long-term climatology of Annual Totals and standard deviations for each climate regime. </li>\n",
    "    <li> Create a latitude-by-month Hovmoller plot for each climatic regime. </li> \n",
    "    <li> Using CR1 as reference, estimate the magnitude of change for each CR, relative to CR1. </li>\n",
    "</ol>"
   ]
  },
  {
   "cell_type": "code",
   "execution_count": null,
   "id": "bb291845",
   "metadata": {},
   "outputs": [],
   "source": [
    "import xarray as xr\n",
    "import matplotlib.pyplot as plt\n",
    "\n",
    "from warnings import filterwarnings\n",
    "filterwarnings('ignore')"
   ]
  },
  {
   "cell_type": "code",
   "execution_count": null,
   "id": "cc632ce0",
   "metadata": {},
   "outputs": [],
   "source": [
    "da = xr.open_dataset('Africa_cru_data.nc')['pre']"
   ]
  },
  {
   "cell_type": "markdown",
   "id": "d01d8bee",
   "metadata": {},
   "source": [
    "***Task 1*** <br />\n",
    "***Split the CRU data into 4 different climate regimes(CR).*** <br />\n",
    "***(1901-1930, 1931-1960; 1961-1990; 1991-2020)***"
   ]
  },
  {
   "cell_type": "code",
   "execution_count": null,
   "id": "a24128f6",
   "metadata": {},
   "outputs": [],
   "source": [
    "da_CR1 = da.sel(time=slice('1901','1930'))\n",
    "da_CR2 = da.sel(time=slice('1931','1960'))\n",
    "da_CR3 = da.sel(time=slice('1961','1990'))\n",
    "da_CR4 = da.sel(time=slice('1991','2020'))\n"
   ]
  },
  {
   "cell_type": "markdown",
   "id": "d78ec837",
   "metadata": {},
   "source": [
    "***Task 2*** <br />\n",
    "***Visualize the long-term climatological means and standard deviations for each climate regime***"
   ]
  },
  {
   "cell_type": "code",
   "execution_count": null,
   "id": "a58c7abf",
   "metadata": {},
   "outputs": [],
   "source": [
    "import matplotlib.pyplot as plt\n",
    "fig, axes = plt.subplots(ncols=4, nrows=2, figsize=(18,8))\n",
    "plt.subplots_adjust(right=0.87, wspace=0.5, hspace=0.5)\n",
    "\n",
    "# Means\n",
    "da_CR1.groupby('time.year').sum('time').mean('year').plot(ax=axes[0, 0], add_colorbar=False, vmax=1500, cmap='terrain_r')\n",
    "da_CR2.groupby('time.year').sum('time').mean('year').plot(ax=axes[0, 1], add_colorbar=False, vmax=1500, cmap='terrain_r')\n",
    "da_CR3.groupby('time.year').sum('time').mean('year').plot(ax=axes[0, 2], add_colorbar=False, vmax=1500, cmap='terrain_r')\n",
    "cb = da_CR4.groupby('time.year').sum('time').mean('year').plot(ax=axes[0, 3], add_colorbar=False, vmax=1500, cmap='terrain_r')\n",
    "\n",
    "cax = fig.add_axes([0.9, 0.55, 0.01, 0.35])\n",
    "fig.colorbar(cb, cax=cax, orientation='vertical', extend='max')\n",
    "\n",
    "\n",
    "\n",
    "# Standard Deviations\n",
    "da_CR1.groupby('time.year').sum('time').std('year').plot(ax=axes[1, 0], add_colorbar=False, vmin=-200, vmax=200, cmap='RdBu')\n",
    "da_CR2.groupby('time.year').sum('time').std('year').plot(ax=axes[1, 1], add_colorbar=False, vmin=-200, vmax=200, cmap='RdBu')\n",
    "da_CR3.groupby('time.year').sum('time').std('year').plot(ax=axes[1, 2], add_colorbar=False, vmin=-200, vmax=200, cmap='RdBu')\n",
    "cb = da_CR4.groupby('time.year').sum('time').std('year').plot(ax=axes[1, 3], add_colorbar=False, vmin=-200, vmax=200, cmap='RdBu')\n",
    "\n",
    "cax = fig.add_axes([0.9, 0.1, 0.01, 0.35])\n",
    "fig.colorbar(cb, cax=cax, orientation='vertical', extend='both')\n",
    "\n",
    "\n"
   ]
  },
  {
   "cell_type": "markdown",
   "id": "1ea55a6f",
   "metadata": {},
   "source": [
    "***Task 3*** <br />\n",
    "***Create a latitude-by-month Hovmoller plot for each climatic regime.***"
   ]
  },
  {
   "cell_type": "code",
   "execution_count": null,
   "id": "2c2cd78f",
   "metadata": {},
   "outputs": [],
   "source": [
    "fig, axes = plt.subplots(ncols=2, nrows=2, figsize=(12,9))\n",
    "plt.subplots_adjust(right=0.87, wspace=0.5, hspace=0.5)\n",
    "\n",
    "da_CR1.groupby('time.month').mean(['lon','time']).plot.contourf(y='lat', ax=axes[0,0], add_colorbar=False, vmin=50, vmax=200, cmap='terrain_r')\n",
    "axes[0,0].set_title('CR1', fontsize=20)\n",
    "\n",
    "da_CR2.groupby('time.month').mean(['lon','time']).plot.contourf(y='lat', ax=axes[0,1], add_colorbar=False, vmin=50, vmax=200, cmap='terrain_r')\n",
    "axes[0,1].set_title('CR2', fontsize=20)\n",
    "\n",
    "da_CR3.groupby('time.month').mean(['lon','time']).plot.contourf(y='lat', ax=axes[1,0], add_colorbar=False, vmin=50, vmax=200, cmap='terrain_r')\n",
    "axes[1,0].set_title('CR3', fontsize=20)\n",
    "\n",
    "cb = da_CR4.groupby('time.month').mean(['lon','time']).plot.contourf(y='lat', ax=axes[1,1], add_colorbar=False, vmin=50, vmax=200, cmap='terrain_r')\n",
    "axes[1,1].set_title('CR4', fontsize=20)\n",
    "\n",
    "# Add A Single Colorbar\n",
    "cax = fig.add_axes([0.9, 0.1, 0.025, 0.75])\n",
    "fig.colorbar(cb, cax=cax, label='Rainfall (mm/month)', orientation='vertical', extend='both')\n"
   ]
  },
  {
   "cell_type": "markdown",
   "id": "735d2c2b",
   "metadata": {},
   "source": [
    "***Task 4*** <br />\n",
    "***Using CR1 as reference, estimate the magnitude of change for each CR, relative to CR1.***"
   ]
  },
  {
   "cell_type": "code",
   "execution_count": null,
   "id": "b5582ff3",
   "metadata": {},
   "outputs": [],
   "source": [
    "da_clim_CR1 = da_CR1.groupby('time.year').sum('time')\n",
    "da_clim_CR2 = da_CR2.groupby('time.year').sum('time')\n",
    "da_clim_CR3 = da_CR3.groupby('time.year').sum('time')\n",
    "da_clim_CR4 = da_CR4.groupby('time.year').sum('time')"
   ]
  },
  {
   "cell_type": "code",
   "execution_count": null,
   "id": "802dcfeb",
   "metadata": {},
   "outputs": [],
   "source": [
    "fig, axes = plt.subplots(ncols=4, figsize=(18,4))\n",
    "plt.subplots_adjust(bottom=0.25, wspace=0.5, hspace=0.5)\n",
    "\n",
    "cb = da_clim_CR1.mean('year').plot(ax = axes[0], add_colorbar=False, vmax=1500, cmap='terrain_r')\n",
    "axes[0].set_title('CR1')\n",
    "\n",
    "# Add A Single Colorbar \n",
    "cax = fig.add_axes([0.1, 0.075, 0.2, 0.025])\n",
    "fig.colorbar(cb, cax=cax, label='Rainfall (mm/month)', orientation='horizontal', extend='max')\n",
    "\n",
    "\n",
    "\n",
    "( da_clim_CR2.mean('year') - da_clim_CR1.mean('year') ).plot(ax = axes[1], vmin=-50, vmax=50, cmap='RdBu', add_colorbar=False)\n",
    "( da_clim_CR3.mean('year') - da_clim_CR1.mean('year') ).plot(ax = axes[2], vmin=-50, vmax=50, cmap='RdBu', add_colorbar=False)\n",
    "cb = ( da_clim_CR4.mean('year') - da_clim_CR1.mean('year') ).plot(ax = axes[3], vmin=-50, vmax=50, cmap='RdBu', add_colorbar=False)\n",
    "axes[1].set_title('CR2')\n",
    "axes[2].set_title('CR3')\n",
    "axes[3].set_title('CR4')\n",
    "\n",
    "\n",
    "# Add A Single Colorbar For The Differences\n",
    "cax = fig.add_axes([0.35, 0.075, 0.5, 0.025])\n",
    "fig.colorbar(cb, cax=cax, label='Difference (mm/month)', orientation='horizontal', extend='both')\n"
   ]
  },
  {
   "cell_type": "markdown",
   "id": "84a8f89c",
   "metadata": {},
   "source": []
  },
  {
   "cell_type": "markdown",
   "id": "39da1cb9",
   "metadata": {},
   "source": [
    "<font color=\"red\"> <h1>Xarray Where method</h1></font>\n",
    "\n",
    "DataArray.where(cond, other=<NA>, drop=False) <br />\n",
    "Filter elements from this object according to a condition. <br />\n",
    "\n",
    "This operation follows the normal broadcasting and alignment rules that xarray uses for binary arithmetic."
   ]
  },
  {
   "cell_type": "markdown",
   "id": "567eb352",
   "metadata": {},
   "source": [
    "# Let's assume you want to select data from the equatorial region (5$^o$S to 5$^o$N)."
   ]
  },
  {
   "cell_type": "code",
   "execution_count": null,
   "id": "451e2582",
   "metadata": {},
   "outputs": [],
   "source": [
    "\n",
    "d1 = da.sel(time='2020')\n",
    "d1.where((d1.lat>=-5) & (d1.lat<=5),drop=False)[0].plot()"
   ]
  },
  {
   "cell_type": "markdown",
   "id": "3ba98694",
   "metadata": {},
   "source": [
    "# Selection of Specific Criteria (eg. Heavy Precipitation Events) based on where method"
   ]
  },
  {
   "cell_type": "code",
   "execution_count": null,
   "id": "3cfbac5f",
   "metadata": {},
   "outputs": [],
   "source": [
    "# Let's check the annual climatology of a specified event.\n",
    "\n",
    "Annual_RD_Count = da.where(da>=100).groupby('time.year').count('time')"
   ]
  },
  {
   "cell_type": "markdown",
   "id": "b95e3759",
   "metadata": {},
   "source": [
    "# Simple Facetplot of the DataArray"
   ]
  },
  {
   "cell_type": "code",
   "execution_count": null,
   "id": "f589e704",
   "metadata": {},
   "outputs": [],
   "source": [
    "Annual_RD_Count.sel(year=slice(2011,2020)).plot(col_wrap=5, col='year')"
   ]
  },
  {
   "cell_type": "markdown",
   "id": "9dfe9c5a",
   "metadata": {},
   "source": [
    "# where can serve the purpose of data masking"
   ]
  },
  {
   "cell_type": "code",
   "execution_count": null,
   "id": "2648499b",
   "metadata": {},
   "outputs": [],
   "source": [
    "Annual_RD_Count.where(Annual_RD_Count.mean('year')>0).sel(year=slice(2011,2020)).plot(col_wrap=5, col='year', cmap='viridis')"
   ]
  },
  {
   "cell_type": "code",
   "execution_count": null,
   "id": "1711d1d2",
   "metadata": {},
   "outputs": [],
   "source": []
  },
  {
   "cell_type": "markdown",
   "id": "d5d8a9e5",
   "metadata": {},
   "source": [
    "# RECAP (ITEMS COVERED)\n",
    "\n",
    "- Visualization\n",
    "- Xarray Where method"
   ]
  },
  {
   "cell_type": "markdown",
   "id": "04863c5c",
   "metadata": {},
   "source": [
    "# THANK YOU\n",
    "\n",
    "# QUESTIONS?"
   ]
  }
 ],
 "metadata": {
  "kernelspec": {
   "display_name": "Python 3 (ipykernel)",
   "language": "python",
   "name": "python3"
  },
  "language_info": {
   "codemirror_mode": {
    "name": "ipython",
    "version": 3
   },
   "file_extension": ".py",
   "mimetype": "text/x-python",
   "name": "python",
   "nbconvert_exporter": "python",
   "pygments_lexer": "ipython3",
   "version": "3.8.12"
  }
 },
 "nbformat": 4,
 "nbformat_minor": 5
}
